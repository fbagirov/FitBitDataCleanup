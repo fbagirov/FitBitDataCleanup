{
 "cells": [
  {
   "cell_type": "code",
   "execution_count": 1,
   "metadata": {
    "collapsed": true
   },
   "outputs": [],
   "source": [
    "import pandas as pd\n",
    "import numpy as np\n",
    "import matplotlib.pyplot as plt\n",
    "%matplotlib inline"
   ]
  },
  {
   "cell_type": "code",
   "execution_count": 2,
   "metadata": {},
   "outputs": [
    {
     "name": "stdout",
     "output_type": "stream",
     "text": [
      "<class 'pandas.core.frame.DataFrame'>\n",
      "RangeIndex: 940 entries, 0 to 939\n",
      "Data columns (total 10 columns):\n",
      "Id                          940 non-null int64\n",
      "ActivityDay                 940 non-null object\n",
      "SedentaryMinutes            940 non-null int64\n",
      "LightlyActiveMinutes        940 non-null int64\n",
      "FairlyActiveMinutes         940 non-null int64\n",
      "VeryActiveMinutes           940 non-null int64\n",
      "SedentaryActiveDistance     940 non-null float64\n",
      "LightActiveDistance         940 non-null float64\n",
      "ModeratelyActiveDistance    940 non-null float64\n",
      "VeryActiveDistance          940 non-null float64\n",
      "dtypes: float64(4), int64(5), object(1)\n",
      "memory usage: 73.5+ KB\n"
     ]
    }
   ],
   "source": [
    "dailyIntensities_orig = pd.read_csv('data/dailyIntensities_merged.csv')\n",
    "dailyIntensities_orig.info()"
   ]
  },
  {
   "cell_type": "code",
   "execution_count": 3,
   "metadata": {},
   "outputs": [
    {
     "name": "stdout",
     "output_type": "stream",
     "text": [
      "<class 'pandas.core.frame.DataFrame'>\n",
      "RangeIndex: 1325580 entries, 0 to 1325579\n",
      "Data columns (total 3 columns):\n",
      "Id                1325580 non-null int64\n",
      "ActivityMinute    1325580 non-null object\n",
      "Intensity         1325580 non-null int64\n",
      "dtypes: int64(2), object(1)\n",
      "memory usage: 30.3+ MB\n"
     ]
    }
   ],
   "source": [
    "minuteIntensities_orig = pd.read_csv('data/minuteIntensitiesNarrow_merged.csv')\n",
    "minuteIntensities_orig.info()"
   ]
  },
  {
   "cell_type": "code",
   "execution_count": 4,
   "metadata": {},
   "outputs": [
    {
     "name": "stdout",
     "output_type": "stream",
     "text": [
      "<class 'pandas.core.frame.DataFrame'>\n",
      "RangeIndex: 1325580 entries, 0 to 1325579\n",
      "Data columns (total 3 columns):\n",
      "Id                1325580 non-null int64\n",
      "ActivityMinute    1325580 non-null object\n",
      "Steps             1325580 non-null int64\n",
      "dtypes: int64(2), object(1)\n",
      "memory usage: 30.3+ MB\n"
     ]
    }
   ],
   "source": [
    "minuteSteps_orig = pd.read_csv('data/minuteStepsNarrow_merged.csv')\n",
    "minuteSteps_orig.info()"
   ]
  },
  {
   "cell_type": "code",
   "execution_count": 5,
   "metadata": {},
   "outputs": [
    {
     "data": {
      "text/html": [
       "<div>\n",
       "<table border=\"1\" class=\"dataframe\">\n",
       "  <thead>\n",
       "    <tr style=\"text-align: right;\">\n",
       "      <th></th>\n",
       "      <th>Id</th>\n",
       "      <th>Distance</th>\n",
       "      <th>Steps</th>\n",
       "      <th>Height</th>\n",
       "      <th>Height Formatted</th>\n",
       "    </tr>\n",
       "  </thead>\n",
       "  <tbody>\n",
       "    <tr>\n",
       "      <th>0</th>\n",
       "      <td>1503960366</td>\n",
       "      <td>241.970001</td>\n",
       "      <td>374546</td>\n",
       "      <td>5.247796</td>\n",
       "      <td>5' 3\"</td>\n",
       "    </tr>\n",
       "    <tr>\n",
       "      <th>1</th>\n",
       "      <td>1624580081</td>\n",
       "      <td>121.110000</td>\n",
       "      <td>177450</td>\n",
       "      <td>5.544017</td>\n",
       "      <td>5' 7\"</td>\n",
       "    </tr>\n",
       "    <tr>\n",
       "      <th>2</th>\n",
       "      <td>1644430081</td>\n",
       "      <td>158.700001</td>\n",
       "      <td>217775</td>\n",
       "      <td>5.919561</td>\n",
       "      <td>5' 11\"</td>\n",
       "    </tr>\n",
       "    <tr>\n",
       "      <th>3</th>\n",
       "      <td>1844505072</td>\n",
       "      <td>52.849999</td>\n",
       "      <td>79942</td>\n",
       "      <td>5.370201</td>\n",
       "      <td>5' 4\"</td>\n",
       "    </tr>\n",
       "    <tr>\n",
       "      <th>4</th>\n",
       "      <td>1927972279</td>\n",
       "      <td>19.660000</td>\n",
       "      <td>28400</td>\n",
       "      <td>5.623229</td>\n",
       "      <td>5' 7\"</td>\n",
       "    </tr>\n",
       "    <tr>\n",
       "      <th>5</th>\n",
       "      <td>2022484408</td>\n",
       "      <td>250.609999</td>\n",
       "      <td>351047</td>\n",
       "      <td>5.799008</td>\n",
       "      <td>5' 10\"</td>\n",
       "    </tr>\n",
       "    <tr>\n",
       "      <th>6</th>\n",
       "      <td>2026352035</td>\n",
       "      <td>107.060000</td>\n",
       "      <td>172068</td>\n",
       "      <td>5.054145</td>\n",
       "      <td>5' 1\"</td>\n",
       "    </tr>\n",
       "    <tr>\n",
       "      <th>7</th>\n",
       "      <td>2320127002</td>\n",
       "      <td>98.730000</td>\n",
       "      <td>146035</td>\n",
       "      <td>5.491775</td>\n",
       "      <td>5' 6\"</td>\n",
       "    </tr>\n",
       "    <tr>\n",
       "      <th>8</th>\n",
       "      <td>2347167796</td>\n",
       "      <td>114.410000</td>\n",
       "      <td>171337</td>\n",
       "      <td>5.424171</td>\n",
       "      <td>5' 5\"</td>\n",
       "    </tr>\n",
       "    <tr>\n",
       "      <th>9</th>\n",
       "      <td>2873212765</td>\n",
       "      <td>157.970001</td>\n",
       "      <td>233890</td>\n",
       "      <td>5.486350</td>\n",
       "      <td>5' 6\"</td>\n",
       "    </tr>\n",
       "    <tr>\n",
       "      <th>10</th>\n",
       "      <td>3372868164</td>\n",
       "      <td>93.849999</td>\n",
       "      <td>136744</td>\n",
       "      <td>5.575022</td>\n",
       "      <td>5' 7\"</td>\n",
       "    </tr>\n",
       "    <tr>\n",
       "      <th>11</th>\n",
       "      <td>3977333714</td>\n",
       "      <td>225.009999</td>\n",
       "      <td>328244</td>\n",
       "      <td>5.568338</td>\n",
       "      <td>5' 7\"</td>\n",
       "    </tr>\n",
       "    <tr>\n",
       "      <th>12</th>\n",
       "      <td>4020332650</td>\n",
       "      <td>48.989999</td>\n",
       "      <td>68183</td>\n",
       "      <td>5.836492</td>\n",
       "      <td>5' 10\"</td>\n",
       "    </tr>\n",
       "    <tr>\n",
       "      <th>13</th>\n",
       "      <td>4057192912</td>\n",
       "      <td>11.220000</td>\n",
       "      <td>15305</td>\n",
       "      <td>5.954977</td>\n",
       "      <td>5' 11\"</td>\n",
       "    </tr>\n",
       "    <tr>\n",
       "      <th>14</th>\n",
       "      <td>4319703577</td>\n",
       "      <td>141.019999</td>\n",
       "      <td>209464</td>\n",
       "      <td>5.468798</td>\n",
       "      <td>5' 6\"</td>\n",
       "    </tr>\n",
       "    <tr>\n",
       "      <th>15</th>\n",
       "      <td>4388161847</td>\n",
       "      <td>248.540000</td>\n",
       "      <td>319765</td>\n",
       "      <td>6.313729</td>\n",
       "      <td>6' 4\"</td>\n",
       "    </tr>\n",
       "    <tr>\n",
       "      <th>16</th>\n",
       "      <td>4445114986</td>\n",
       "      <td>100.550000</td>\n",
       "      <td>148345</td>\n",
       "      <td>5.505918</td>\n",
       "      <td>5' 6\"</td>\n",
       "    </tr>\n",
       "    <tr>\n",
       "      <th>17</th>\n",
       "      <td>4558609924</td>\n",
       "      <td>157.460000</td>\n",
       "      <td>237909</td>\n",
       "      <td>5.376256</td>\n",
       "      <td>5' 5\"</td>\n",
       "    </tr>\n",
       "    <tr>\n",
       "      <th>18</th>\n",
       "      <td>4702921684</td>\n",
       "      <td>215.380002</td>\n",
       "      <td>265559</td>\n",
       "      <td>6.588172</td>\n",
       "      <td>6' 7\"</td>\n",
       "    </tr>\n",
       "    <tr>\n",
       "      <th>19</th>\n",
       "      <td>5553957443</td>\n",
       "      <td>174.769999</td>\n",
       "      <td>266906</td>\n",
       "      <td>5.318989</td>\n",
       "      <td>5' 4\"</td>\n",
       "    </tr>\n",
       "    <tr>\n",
       "      <th>20</th>\n",
       "      <td>5577150313</td>\n",
       "      <td>185.989999</td>\n",
       "      <td>248519</td>\n",
       "      <td>6.079258</td>\n",
       "      <td>6' 1\"</td>\n",
       "    </tr>\n",
       "    <tr>\n",
       "      <th>21</th>\n",
       "      <td>6117666160</td>\n",
       "      <td>141.550000</td>\n",
       "      <td>185673</td>\n",
       "      <td>6.192723</td>\n",
       "      <td>6' 2\"</td>\n",
       "    </tr>\n",
       "    <tr>\n",
       "      <th>22</th>\n",
       "      <td>6290855005</td>\n",
       "      <td>123.610001</td>\n",
       "      <td>163359</td>\n",
       "      <td>6.146546</td>\n",
       "      <td>6' 2\"</td>\n",
       "    </tr>\n",
       "    <tr>\n",
       "      <th>23</th>\n",
       "      <td>6775888955</td>\n",
       "      <td>46.930000</td>\n",
       "      <td>65371</td>\n",
       "      <td>5.831577</td>\n",
       "      <td>5' 10\"</td>\n",
       "    </tr>\n",
       "    <tr>\n",
       "      <th>24</th>\n",
       "      <td>6962181067</td>\n",
       "      <td>203.920001</td>\n",
       "      <td>303621</td>\n",
       "      <td>5.455676</td>\n",
       "      <td>5' 5\"</td>\n",
       "    </tr>\n",
       "    <tr>\n",
       "      <th>25</th>\n",
       "      <td>7007744171</td>\n",
       "      <td>208.389999</td>\n",
       "      <td>294409</td>\n",
       "      <td>5.749716</td>\n",
       "      <td>5' 9\"</td>\n",
       "    </tr>\n",
       "    <tr>\n",
       "      <th>26</th>\n",
       "      <td>7086361926</td>\n",
       "      <td>197.570000</td>\n",
       "      <td>287367</td>\n",
       "      <td>5.584762</td>\n",
       "      <td>5' 7\"</td>\n",
       "    </tr>\n",
       "    <tr>\n",
       "      <th>27</th>\n",
       "      <td>8053475328</td>\n",
       "      <td>355.650000</td>\n",
       "      <td>457463</td>\n",
       "      <td>6.315204</td>\n",
       "      <td>6' 4\"</td>\n",
       "    </tr>\n",
       "    <tr>\n",
       "      <th>28</th>\n",
       "      <td>8253242879</td>\n",
       "      <td>88.629999</td>\n",
       "      <td>122800</td>\n",
       "      <td>5.862771</td>\n",
       "      <td>5' 10\"</td>\n",
       "    </tr>\n",
       "    <tr>\n",
       "      <th>29</th>\n",
       "      <td>8378563200</td>\n",
       "      <td>214.270000</td>\n",
       "      <td>269223</td>\n",
       "      <td>6.465019</td>\n",
       "      <td>6' 6\"</td>\n",
       "    </tr>\n",
       "    <tr>\n",
       "      <th>30</th>\n",
       "      <td>8583815059</td>\n",
       "      <td>137.520000</td>\n",
       "      <td>176200</td>\n",
       "      <td>6.339873</td>\n",
       "      <td>6' 4\"</td>\n",
       "    </tr>\n",
       "    <tr>\n",
       "      <th>31</th>\n",
       "      <td>8792009665</td>\n",
       "      <td>34.410000</td>\n",
       "      <td>53750</td>\n",
       "      <td>5.200280</td>\n",
       "      <td>5' 2\"</td>\n",
       "    </tr>\n",
       "    <tr>\n",
       "      <th>32</th>\n",
       "      <td>8877689391</td>\n",
       "      <td>408.080000</td>\n",
       "      <td>494984</td>\n",
       "      <td>6.696914</td>\n",
       "      <td>6' 8\"</td>\n",
       "    </tr>\n",
       "  </tbody>\n",
       "</table>\n",
       "</div>"
      ],
      "text/plain": [
       "            Id    Distance   Steps    Height Height Formatted\n",
       "0   1503960366  241.970001  374546  5.247796            5' 3\"\n",
       "1   1624580081  121.110000  177450  5.544017            5' 7\"\n",
       "2   1644430081  158.700001  217775  5.919561           5' 11\"\n",
       "3   1844505072   52.849999   79942  5.370201            5' 4\"\n",
       "4   1927972279   19.660000   28400  5.623229            5' 7\"\n",
       "5   2022484408  250.609999  351047  5.799008           5' 10\"\n",
       "6   2026352035  107.060000  172068  5.054145            5' 1\"\n",
       "7   2320127002   98.730000  146035  5.491775            5' 6\"\n",
       "8   2347167796  114.410000  171337  5.424171            5' 5\"\n",
       "9   2873212765  157.970001  233890  5.486350            5' 6\"\n",
       "10  3372868164   93.849999  136744  5.575022            5' 7\"\n",
       "11  3977333714  225.009999  328244  5.568338            5' 7\"\n",
       "12  4020332650   48.989999   68183  5.836492           5' 10\"\n",
       "13  4057192912   11.220000   15305  5.954977           5' 11\"\n",
       "14  4319703577  141.019999  209464  5.468798            5' 6\"\n",
       "15  4388161847  248.540000  319765  6.313729            6' 4\"\n",
       "16  4445114986  100.550000  148345  5.505918            5' 6\"\n",
       "17  4558609924  157.460000  237909  5.376256            5' 5\"\n",
       "18  4702921684  215.380002  265559  6.588172            6' 7\"\n",
       "19  5553957443  174.769999  266906  5.318989            5' 4\"\n",
       "20  5577150313  185.989999  248519  6.079258            6' 1\"\n",
       "21  6117666160  141.550000  185673  6.192723            6' 2\"\n",
       "22  6290855005  123.610001  163359  6.146546            6' 2\"\n",
       "23  6775888955   46.930000   65371  5.831577           5' 10\"\n",
       "24  6962181067  203.920001  303621  5.455676            5' 5\"\n",
       "25  7007744171  208.389999  294409  5.749716            5' 9\"\n",
       "26  7086361926  197.570000  287367  5.584762            5' 7\"\n",
       "27  8053475328  355.650000  457463  6.315204            6' 4\"\n",
       "28  8253242879   88.629999  122800  5.862771           5' 10\"\n",
       "29  8378563200  214.270000  269223  6.465019            6' 6\"\n",
       "30  8583815059  137.520000  176200  6.339873            6' 4\"\n",
       "31  8792009665   34.410000   53750  5.200280            5' 2\"\n",
       "32  8877689391  408.080000  494984  6.696914            6' 8\""
      ]
     },
     "execution_count": 5,
     "metadata": {},
     "output_type": "execute_result"
    }
   ],
   "source": [
    "minuteIntensities_Steps_orig = pd.merge(minuteIntensities_orig,\n",
    "                                   minuteSteps_orig,\n",
    "                                   on = ['Id', 'ActivityMinute'])\n",
    "minuteIntensities_Steps_Active_orig = minuteIntensities_Steps_orig[minuteIntensities_Steps_orig['Intensity'] > 0]\n",
    "TotalSteps_Active_orig = minuteIntensities_Steps_Active_orig.groupby('Id')['Steps'].sum().reset_index()\n",
    "dailyIntensities_orig['Distance'] = dailyIntensities_orig[\n",
    "    ['LightActiveDistance', 'ModeratelyActiveDistance', 'VeryActiveDistance']].sum(axis=1)\n",
    "TotalDistance_Active_orig = dailyIntensities_orig.groupby('Id')['Distance'].sum().reset_index()\n",
    "DistanceSteps_orig = pd.merge(TotalDistance_Active_orig,\n",
    "                         TotalSteps_Active_orig,\n",
    "                         on = ['Id'])\n",
    "DistanceSteps_orig['Height'] = DistanceSteps_orig.apply(lambda x: 5280*x.Distance/(x.Steps*0.65), axis=1)\n",
    "DistanceSteps_orig['Height Formatted'] = DistanceSteps_orig['Height'].apply(lambda x: \n",
    "                                                      str(int(np.floor(x))) + '\\' ' +  str(int(round(12*(x % 1)))) + '\\\"')\n",
    "DistanceSteps_orig"
   ]
  },
  {
   "cell_type": "code",
   "execution_count": 6,
   "metadata": {},
   "outputs": [
    {
     "name": "stdout",
     "output_type": "stream",
     "text": [
      "<class 'pandas.core.frame.DataFrame'>\n",
      "RangeIndex: 1325580 entries, 0 to 1325579\n",
      "Data columns (total 3 columns):\n",
      "Id                1325580 non-null int64\n",
      "ActivityMinute    1325580 non-null object\n",
      "Intensity         1325580 non-null int64\n",
      "dtypes: int64(2), object(1)\n",
      "memory usage: 30.3+ MB\n"
     ]
    }
   ],
   "source": [
    "minuteIntensities_orig.info()"
   ]
  },
  {
   "cell_type": "code",
   "execution_count": 7,
   "metadata": {},
   "outputs": [
    {
     "name": "stdout",
     "output_type": "stream",
     "text": [
      "<class 'pandas.core.frame.DataFrame'>\n",
      "Int64Index: 1368060 entries, 0 to 129659\n",
      "Data columns (total 3 columns):\n",
      "Id                1368060 non-null int64\n",
      "ActivityMinute    1368060 non-null object\n",
      "Intensity         1368060 non-null int64\n",
      "dtypes: int64(2), object(1)\n",
      "memory usage: 41.7+ MB\n"
     ]
    }
   ],
   "source": [
    "#add duplicates\n",
    "minuteIntensities = pd.concat([minuteIntensities_orig, minuteIntensities_orig[minuteIntensities_orig['Id'] == 1644430081]])\n",
    "minuteIntensities.info()"
   ]
  },
  {
   "cell_type": "code",
   "execution_count": 8,
   "metadata": {},
   "outputs": [
    {
     "data": {
      "text/plain": [
       "<matplotlib.axes._subplots.AxesSubplot at 0x117592208>"
      ]
     },
     "execution_count": 8,
     "metadata": {},
     "output_type": "execute_result"
    },
    {
     "data": {
      "image/png": "[encoded data removed]",
      "text/plain": [
       "<matplotlib.figure.Figure at 0x10484b1d0>"
      ]
     },
     "metadata": {},
     "output_type": "display_data"
    }
   ],
   "source": [
    "minuteSteps_orig.loc[minuteSteps_orig['Steps'] > 1, 'Steps'].hist(bins=30)"
   ]
  },
  {
   "cell_type": "code",
   "execution_count": 9,
   "metadata": {
    "collapsed": true
   },
   "outputs": [],
   "source": [
    "minuteSteps = minuteSteps_orig.copy()\n",
    "#get string index\n",
    "minuteSteps.loc[(minuteSteps['Id'] == 6290855005) & \n",
    "                     (np.random.choice([True, False], size=len(minuteSteps))), 'Id'] = '\\'6290855005'\n",
    "#add nans\n",
    "minuteSteps.loc[(minuteSteps['Id'] == 8378563200) & \n",
    "                     (np.random.choice([True, False], size=len(minuteSteps))), 'Steps'] = np.nan\n",
    "#add outliers\n",
    "minuteSteps.loc[(minuteSteps['Id'] == 8792009665) & \n",
    "                     (np.random.choice([True, False], size=len(minuteSteps), p=[0.1, 0.9])), 'Steps'] = 500\n",
    "\n",
    "#add imputed values - mean value of steps\n",
    "#mean_2320127002 = minuteSteps.loc[minuteSteps['Id'] == 2320127002, 'Steps'].mean()\n",
    "#minuteSteps.loc[(minuteSteps['Id'] == 2320127002) & \n",
    "#                     (np.random.choice([True, False], size=len(minuteSteps), p=[0.3, 0.7])), 'Steps'] = mean_2320127002"
   ]
  },
  {
   "cell_type": "code",
   "execution_count": 10,
   "metadata": {},
   "outputs": [
    {
     "name": "stdout",
     "output_type": "stream",
     "text": [
      "<class 'pandas.core.frame.DataFrame'>\n",
      "RangeIndex: 1325580 entries, 0 to 1325579\n",
      "Data columns (total 3 columns):\n",
      "Id                1325580 non-null object\n",
      "ActivityMinute    1325580 non-null object\n",
      "Steps             1303678 non-null float64\n",
      "dtypes: float64(1), object(2)\n",
      "memory usage: 30.3+ MB\n"
     ]
    }
   ],
   "source": [
    "minuteSteps.info()"
   ]
  },
  {
   "cell_type": "code",
   "execution_count": 11,
   "metadata": {
    "collapsed": true
   },
   "outputs": [],
   "source": [
    "dailyIntensities = dailyIntensities_orig.copy()"
   ]
  },
  {
   "cell_type": "code",
   "execution_count": 12,
   "metadata": {},
   "outputs": [
    {
     "data": {
      "text/html": [
       "<div>\n",
       "<table border=\"1\" class=\"dataframe\">\n",
       "  <thead>\n",
       "    <tr style=\"text-align: right;\">\n",
       "      <th></th>\n",
       "      <th>Id</th>\n",
       "      <th>ActivityMinute</th>\n",
       "      <th>Steps</th>\n",
       "    </tr>\n",
       "  </thead>\n",
       "  <tbody>\n",
       "    <tr>\n",
       "      <th>0</th>\n",
       "      <td>1503960366</td>\n",
       "      <td>4/12/2016 12:00:00 AM</td>\n",
       "      <td>0.0</td>\n",
       "    </tr>\n",
       "    <tr>\n",
       "      <th>1</th>\n",
       "      <td>1503960366</td>\n",
       "      <td>4/12/2016 12:01:00 AM</td>\n",
       "      <td>0.0</td>\n",
       "    </tr>\n",
       "    <tr>\n",
       "      <th>2</th>\n",
       "      <td>1503960366</td>\n",
       "      <td>4/12/2016 12:02:00 AM</td>\n",
       "      <td>0.0</td>\n",
       "    </tr>\n",
       "    <tr>\n",
       "      <th>3</th>\n",
       "      <td>1503960366</td>\n",
       "      <td>4/12/2016 12:03:00 AM</td>\n",
       "      <td>0.0</td>\n",
       "    </tr>\n",
       "    <tr>\n",
       "      <th>4</th>\n",
       "      <td>1503960366</td>\n",
       "      <td>4/12/2016 12:04:00 AM</td>\n",
       "      <td>0.0</td>\n",
       "    </tr>\n",
       "    <tr>\n",
       "      <th>5</th>\n",
       "      <td>1503960366</td>\n",
       "      <td>4/12/2016 12:05:00 AM</td>\n",
       "      <td>0.0</td>\n",
       "    </tr>\n",
       "  </tbody>\n",
       "</table>\n",
       "</div>"
      ],
      "text/plain": [
       "           Id         ActivityMinute  Steps\n",
       "0  1503960366  4/12/2016 12:00:00 AM    0.0\n",
       "1  1503960366  4/12/2016 12:01:00 AM    0.0\n",
       "2  1503960366  4/12/2016 12:02:00 AM    0.0\n",
       "3  1503960366  4/12/2016 12:03:00 AM    0.0\n",
       "4  1503960366  4/12/2016 12:04:00 AM    0.0\n",
       "5  1503960366  4/12/2016 12:05:00 AM    0.0"
      ]
     },
     "execution_count": 12,
     "metadata": {},
     "output_type": "execute_result"
    }
   ],
   "source": [
    "minuteSteps.loc[:5]"
   ]
  },
  {
   "cell_type": "code",
   "execution_count": 13,
   "metadata": {},
   "outputs": [
    {
     "data": {
      "text/plain": [
       "\"\\nwriterSteps = pd.ExcelWriter('minuteSteps.xlsx', engine = 'xlsxwriter')\\nminuteSteps.loc[277004:].to_excel(writerSteps, sheet_name='minuteSteps') #.set_index(['Id', 'ActivityMinute'])\\nminuteSteps.loc[:277003].to_excel(writerSteps, sheet_name='Sheet1')\\nwriterSteps.save()\\n\\nwriterIntensities = pd.ExcelWriter('minuteIntensities.xlsx', engine = 'xlsxwriter')\\nminuteIntensities.loc[277004:].to_excel(writerIntensities, sheet_name='minuteIntensities') #.set_index(['Id', 'ActivityMinute'])\\nminuteIntensities.loc[:277003].to_excel(writerIntensities, sheet_name='Sheet1')\\nwriterIntensities.save()\\n\\ndailyDistances = dailyIntensities[['Id', 'ActivityDay', 'SedentaryActiveDistance', 'LightActiveDistance', \\n                  'ModeratelyActiveDistance', 'VeryActiveDistance']]\\nwriterDistances = pd.ExcelWriter('dailyDistances.xlsx', engine = 'xlsxwriter')\\ndailyDistances.to_excel(writerDistances, sheet_name='dailyDistances') #.set_index(['Id', 'ActivityDay'])\\nwriterDistances.save()\\n\""
      ]
     },
     "execution_count": 13,
     "metadata": {},
     "output_type": "execute_result"
    }
   ],
   "source": [
    "\"\"\"\n",
    "writerSteps = pd.ExcelWriter('minuteSteps.xlsx', engine = 'xlsxwriter')\n",
    "minuteSteps.loc[277004:].to_excel(writerSteps, sheet_name='minuteSteps') #.set_index(['Id', 'ActivityMinute'])\n",
    "minuteSteps.loc[:277003].to_excel(writerSteps, sheet_name='Sheet1')\n",
    "writerSteps.save()\n",
    "\n",
    "writerIntensities = pd.ExcelWriter('minuteIntensities.xlsx', engine = 'xlsxwriter')\n",
    "minuteIntensities.loc[277004:].to_excel(writerIntensities, sheet_name='minuteIntensities') #.set_index(['Id', 'ActivityMinute'])\n",
    "minuteIntensities.loc[:277003].to_excel(writerIntensities, sheet_name='Sheet1')\n",
    "writerIntensities.save()\n",
    "\n",
    "dailyDistances = dailyIntensities[['Id', 'ActivityDay', 'SedentaryActiveDistance', 'LightActiveDistance', \n",
    "                  'ModeratelyActiveDistance', 'VeryActiveDistance']]\n",
    "writerDistances = pd.ExcelWriter('dailyDistances.xlsx', engine = 'xlsxwriter')\n",
    "dailyDistances.to_excel(writerDistances, sheet_name='dailyDistances') #.set_index(['Id', 'ActivityDay'])\n",
    "writerDistances.save()\n",
    "\"\"\""
   ]
  },
  {
   "cell_type": "code",
   "execution_count": null,
   "metadata": {},
   "outputs": [
    {
     "data": {
      "text/plain": [
       "\"\\nwriterSteps = pd.ExcelWriter('minuteSteps.xlsx', engine = 'xlsxwriter')\\nminuteSteps.sort_values(by=['Id', 'ActivityMinute']).loc[:1048002].to_excel(writerSteps, sheet_name='minuteSteps')\\nminuteSteps.sort_values(by=['Id', 'ActivityMinute']).loc[1048003:].to_excel(writerSteps, sheet_name='Sheet1')\\nwriterSteps.save()\\n\\nwriterIntensities = pd.ExcelWriter('minuteIntensities.xlsx', engine = 'xlsxwriter')\\nminuteIntensities.sort_values(by=['Id', 'ActivityMinute']).loc[:1048002].to_excel(writerIntensities, sheet_name='minuteIntensities')\\nminuteIntensities.sort_values(by=['Id', 'ActivityMinute']).loc[1048003:].to_excel(writerIntensities, sheet_name='Sheet1')\\nwriterIntensities.save()\\n\\ndailyDistances = dailyIntensities[['Id', 'ActivityDay', 'SedentaryActiveDistance', 'LightActiveDistance', \\n                  'ModeratelyActiveDistance', 'VeryActiveDistance']]\\nwriterDistances = pd.ExcelWriter('dailyDistances.xlsx', engine = 'xlsxwriter')\\ndailyDistances.to_excel(writerDistances, sheet_name='dailyDistances') \\nwriterDistances.save()\\n\""
      ]
     },
     "execution_count": 14,
     "metadata": {},
     "output_type": "execute_result"
    }
   ],
   "source": [
    "\"\"\"\n",
    "writerSteps = pd.ExcelWriter('minuteSteps.xlsx', engine = 'xlsxwriter')\n",
    "minuteSteps.sort_values(by=['Id', 'ActivityMinute']).loc[:1048002].to_excel(writerSteps, sheet_name='minuteSteps')\n",
    "minuteSteps.sort_values(by=['Id', 'ActivityMinute']).loc[1048003:].to_excel(writerSteps, sheet_name='Sheet1')\n",
    "writerSteps.save()\n",
    "\n",
    "writerIntensities = pd.ExcelWriter('minuteIntensities.xlsx', engine = 'xlsxwriter')\n",
    "minuteIntensities.sort_values(by=['Id', 'ActivityMinute']).loc[:1048002].to_excel(writerIntensities, sheet_name='minuteIntensities')\n",
    "minuteIntensities.sort_values(by=['Id', 'ActivityMinute']).loc[1048003:].to_excel(writerIntensities, sheet_name='Sheet1')\n",
    "writerIntensities.save()\n",
    "\n",
    "dailyDistances = dailyIntensities[['Id', 'ActivityDay', 'SedentaryActiveDistance', 'LightActiveDistance', \n",
    "                  'ModeratelyActiveDistance', 'VeryActiveDistance']]\n",
    "writerDistances = pd.ExcelWriter('dailyDistances.xlsx', engine = 'xlsxwriter')\n",
    "dailyDistances.to_excel(writerDistances, sheet_name='dailyDistances') \n",
    "writerDistances.save()\n",
    "\"\"\""
   ]
  },
  {
   "cell_type": "code",
   "execution_count": null,
   "metadata": {
    "collapsed": true
   },
   "outputs": [],
   "source": [
    "#save to .csv\n",
    "minuteSteps.to_csv('minuteSteps.csv')\n",
    "minuteIntensities.to_csv('minuteIntensities.csv')\n",
    "dailyDistances = dailyIntensities[['Id', 'ActivityDay', 'SedentaryActiveDistance', 'LightActiveDistance', \n",
    "                  'ModeratelyActiveDistance', 'VeryActiveDistance']]\n",
    "dailyDistances.to_csv('dailyDistances.csv') "
   ]
  },
  {
   "cell_type": "code",
   "execution_count": null,
   "metadata": {},
   "outputs": [],
   "source": [
    "len(minuteSteps.loc[277004:])"
   ]
  },
  {
   "cell_type": "code",
   "execution_count": null,
   "metadata": {},
   "outputs": [],
   "source": [
    "minuteSteps.loc[277004:].sort_values(['Id', 'ActivityMinute']).head()"
   ]
  },
  {
   "cell_type": "code",
   "execution_count": null,
   "metadata": {},
   "outputs": [],
   "source": [
    "minuteSteps.loc[:1048576].sort_values(by=['Id', 'ActivityMinute']).head()"
   ]
  },
  {
   "cell_type": "code",
   "execution_count": null,
   "metadata": {},
   "outputs": [],
   "source": [
    "#merge minuteIntensities with minuteSteps\n",
    "minuteIntensities_Steps = pd.merge(minuteIntensities,\n",
    "                                   minuteSteps,\n",
    "                                   on = ['Id', 'ActivityMinute'])\n",
    "#extract only records when user was active\n",
    "minuteIntensities_Steps_Active = minuteIntensities_Steps[minuteIntensities_Steps['Intensity'] > 0]\n",
    "#add active steps per Id\n",
    "TotalSteps_Active = minuteIntensities_Steps_Active.groupby('Id')['Steps'].sum().reset_index()\n",
    "#use dailyIntensities information to calculate active distance per customer daily\n",
    "dailyDistances['Distance'] = dailyDistances[\n",
    "    ['LightActiveDistance', 'ModeratelyActiveDistance', 'VeryActiveDistance']].sum(axis=1)\n",
    "#add active distances per Id\n",
    "TotalDistance_Active = dailyDistances.groupby('Id')['Distance'].sum().reset_index()\n",
    "#merge active distances and steps per customer Id\n",
    "DistanceSteps = pd.merge(TotalDistance_Active,\n",
    "                         TotalSteps_Active,\n",
    "                         on = ['Id'])\n",
    "#calculate Height per Id\n",
    "DistanceSteps['Height'] = DistanceSteps.apply(lambda x: 5280*x.Distance/(x.Steps*0.65), axis=1)\n",
    "#format Height to standard notation\n",
    "DistanceSteps['Height Formatted'] = DistanceSteps['Height'].apply(lambda x: \n",
    "                                                      str(int(np.floor(x))) + '\\' ' +  str(int(round(12*(x % 1)))) + '\\\"')\n",
    "DistanceSteps"
   ]
  },
  {
   "cell_type": "code",
   "execution_count": null,
   "metadata": {},
   "outputs": [],
   "source": [
    "print('# records in minuteSteps', len(minuteSteps))\n",
    "print('# records in minuteIntensities', len(minuteIntensities))\n",
    "minuteIntensities_Steps = pd.merge(minuteIntensities,\n",
    "                                   minuteSteps,\n",
    "                                   on = ['Id', 'ActivityMinute'])\n",
    "print('# records in the merged minuteIntensities_Steps', len(minuteIntensities_Steps))"
   ]
  },
  {
   "cell_type": "code",
   "execution_count": null,
   "metadata": {},
   "outputs": [],
   "source": [
    "#duplicates\n",
    "print(len(minuteSteps), len(minuteSteps.drop_duplicates()))\n",
    "print(len(minuteIntensities), len(minuteIntensities.drop_duplicates()))"
   ]
  },
  {
   "cell_type": "code",
   "execution_count": null,
   "metadata": {
    "collapsed": true
   },
   "outputs": [],
   "source": [
    "minuteIntensities_clean = minuteIntensities.drop_duplicates()"
   ]
  },
  {
   "cell_type": "code",
   "execution_count": null,
   "metadata": {},
   "outputs": [],
   "source": [
    "print('# records in minuteSteps', len(minuteSteps))\n",
    "print('# records in minuteIntensities', len(minuteIntensities_clean))\n",
    "minuteIntensities_Steps_clean = pd.merge(minuteIntensities_clean,\n",
    "                                   minuteSteps,\n",
    "                                   on = ['Id', 'ActivityMinute'])\n",
    "print('# records in the merged minuteIntensities_Steps', len(minuteIntensities_Steps_clean))"
   ]
  },
  {
   "cell_type": "code",
   "execution_count": null,
   "metadata": {},
   "outputs": [],
   "source": [
    "minuteIntensities.info()"
   ]
  },
  {
   "cell_type": "code",
   "execution_count": null,
   "metadata": {
    "collapsed": true
   },
   "outputs": [],
   "source": [
    "#NaNs and outliers"
   ]
  },
  {
   "cell_type": "code",
   "execution_count": null,
   "metadata": {},
   "outputs": [],
   "source": [
    "minuteSteps.describe()"
   ]
  },
  {
   "cell_type": "code",
   "execution_count": null,
   "metadata": {},
   "outputs": [],
   "source": [
    "minuteIntensities.describe()"
   ]
  },
  {
   "cell_type": "code",
   "execution_count": null,
   "metadata": {
    "collapsed": true
   },
   "outputs": [],
   "source": [
    "#minuteSteps = minuteSteps_orig.copy()\n",
    "#get string index\n",
    "minuteSteps.loc[(minuteSteps['Id'] == 6290855005) & \n",
    "                     (np.random.choice([True, False], size=len(minuteSteps))), 'Id'] = '6290855005'\n",
    "#add nans\n",
    "minuteSteps.loc[(minuteSteps['Id'] == 8378563200) & \n",
    "                     (np.random.choice([True, False], size=len(minuteSteps))), 'Steps'] = np.nan\n",
    "#add outliers\n",
    "minuteSteps.loc[(minuteSteps['Id'] == 8877689391) & \n",
    "                     (np.random.choice([True, False], size=len(minuteSteps), p=[0.1, 0.9])), 'Steps'] = 500\n",
    "\n",
    "#add imputed values (0)\n",
    "minuteSteps.loc[(minuteSteps['Id'] == 2320127002) & \n",
    "                     (np.random.choice([True, False], size=len(minuteSteps), p=[0.3, 0.7])), 'Steps'] = 0"
   ]
  },
  {
   "cell_type": "code",
   "execution_count": null,
   "metadata": {
    "collapsed": true
   },
   "outputs": [],
   "source": []
  },
  {
   "cell_type": "code",
   "execution_count": null,
   "metadata": {
    "collapsed": true
   },
   "outputs": [],
   "source": []
  }
 ],
 "metadata": {
  "anaconda-cloud": {},
  "kernelspec": {
   "display_name": "Python [default]",
   "language": "python",
   "name": "python3"
  },
  "language_info": {
   "codemirror_mode": {
    "name": "ipython",
    "version": 3
   },
   "file_extension": ".py",
   "mimetype": "text/x-python",
   "name": "python",
   "nbconvert_exporter": "python",
   "pygments_lexer": "ipython3",
   "version": "3.5.2"
  }
 },
 "nbformat": 4,
 "nbformat_minor": 1
}
